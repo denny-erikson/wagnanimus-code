{
  "nbformat": 4,
  "nbformat_minor": 0,
  "metadata": {
    "colab": {
      "provenance": [],
      "include_colab_link": true
    },
    "kernelspec": {
      "name": "python3",
      "display_name": "Python 3"
    },
    "language_info": {
      "name": "python"
    }
  },
  "cells": [
    {
      "cell_type": "markdown",
      "metadata": {
        "id": "view-in-github",
        "colab_type": "text"
      },
      "source": [
        "<a href=\"https://colab.research.google.com/github/denny-erikson/wagnanimus-code/blob/main/Wagnanimu's_Code.ipynb\" target=\"_parent\"><img src=\"https://colab.research.google.com/assets/colab-badge.svg\" alt=\"Open In Colab\"/></a>"
      ]
    },
    {
      "cell_type": "markdown",
      "source": [
        "# **Wagnanimu's Code** 🛠️"
      ],
      "metadata": {
        "id": "RxUjHc79k7SS"
      }
    },
    {
      "cell_type": "code",
      "source": [
        "# @markdown ---\n",
        "\n",
        "# @title Passo 1 - Preparação 🛠️\n",
        "# @markdown 🔗 **Montando Diretórios:** Configurando o ambiente para acesso aos diretórios 📂\n",
        "# @markdown - 🔒 **Solicitando Permissão de Acesso** ao Google Drive para carregar e salvar arquivos 🔐\n",
        "# @markdown - ✅ **Aguarde** a execução completa desta etapa antes de prosseguir ⏳\n",
        "# @markdown ---\n",
        "# @markdown 🚨 **Importante:** Por favor, **não abra nem edite este código** para evitar erros no processo! ⚠️\n",
        "\n",
        "\n",
        "from google.colab import drive\n",
        "drive.mount('/content/drive')"
      ],
      "metadata": {
        "colab": {
          "base_uri": "https://localhost:8080/"
        },
        "id": "Ru7DIQD7Qioe",
        "outputId": "59663b16-0640-48ed-86a9-075abfe19764",
        "cellView": "form"
      },
      "execution_count": null,
      "outputs": [
        {
          "output_type": "stream",
          "name": "stdout",
          "text": [
            "Drive already mounted at /content/drive; to attempt to forcibly remount, call drive.mount(\"/content/drive\", force_remount=True).\n"
          ]
        }
      ]
    },
    {
      "cell_type": "code",
      "source": [
        "# @title Passo 2 - Processamento XML ⚡\n",
        "# @markdown ⚡ **Execução da Regra de Processamento do XML:** Aplicando as regras definidas no arquivo XML\n",
        "# @markdown - ✅ **Aguarde** a execução completa desta etapa ⏳\n",
        "# @markdown ---\n",
        "# @markdown 🚨 **Importante:** Para garantir a integridade do processamento, **não abra nem edite este código!** ⚠️\n",
        "\n",
        "\n",
        "import xml.etree.ElementTree as ET\n",
        "import os\n",
        "import shutil\n",
        "from datetime import datetime\n",
        "import pandas as pd\n",
        "import re\n",
        "\n",
        "# Dicionário para mapeamento de months em português\n",
        "months = {\n",
        "    '01': 'JANEIRO', '02': 'FEVEREIRO', '03': 'MARÇO',\n",
        "    '04': 'ABRIL', '05': 'MAIO', '06': 'JUNHO',\n",
        "    '07': 'JULHO', '08': 'AGOSTO', '09': 'SETEMBRO',\n",
        "    '10': 'OUTUBRO', '11': 'NOVEMBRO', '12': 'DEZEMBRO'\n",
        "}\n",
        "\n",
        "# Dicionário para mapeamento de filiais com base no CNPJ\n",
        "cnpj_branches = {\n",
        "    '62438841000132': \"NR SAM\",\n",
        "    '62438841000647': \"NR SAP\",\n",
        "    '62438841000485': \"NR SP\"\n",
        "}\n",
        "\n",
        "# Função para criar o caminho baseado no XML\n",
        "def extract_and_create_path(xml_path, base_url):\n",
        "    tree = ET.parse(xml_path)\n",
        "    root = tree.getroot()\n",
        "\n",
        "    def find_cpf_or_cnpj(path):\n",
        "      return root.find(f'{path}CPF').text if root.find(f'{path}CPF') is not None else root.find(f'{path}CNPJ').text if root.find(f'{path}CNPJ') is not None else None\n",
        "\n",
        "\n",
        "    cnpj_receiver = root.find('.//{http://www.portalfiscal.inf.br/nfe}dest/{http://www.portalfiscal.inf.br/nfe}CNPJ').text\n",
        "    cnpj_provider = find_cpf_or_cnpj('.//{http://www.portalfiscal.inf.br/nfe}emit/{http://www.portalfiscal.inf.br/nfe}')\n",
        "    corporate_reason = root.find('.//{http://www.portalfiscal.inf.br/nfe}emit/{http://www.portalfiscal.inf.br/nfe}xNome').text\n",
        "    invoice_number = root.find('.//{http://www.portalfiscal.inf.br/nfe}ide/{http://www.portalfiscal.inf.br/nfe}nNF').text\n",
        "    issue_date = root.find('.//{http://www.portalfiscal.inf.br/nfe}ide/{http://www.portalfiscal.inf.br/nfe}dhEmi').text\n",
        "\n",
        "    corporate_reason = re.sub(r'[^a-zA-Z0-9]', ' ', corporate_reason)\n",
        "\n",
        "    issue_date = datetime.fromisoformat(issue_date)\n",
        "    month_in_portuguese = months[issue_date.strftime(\"%m\")]\n",
        "    formatted_date = f\"{issue_date.strftime('%Y')}/{month_in_portuguese}/{issue_date.strftime('%d')}\"\n",
        "\n",
        "    branch = cnpj_branches.get(cnpj_receiver[:14], \"Outra Filial\")\n",
        "    folder_name = f\"NF {invoice_number} - {corporate_reason}\"\n",
        "    file_name = f\"NF {invoice_number} - {corporate_reason}.xml\"\n",
        "    full_path = os.path.join(base_url, branch, formatted_date, folder_name, file_name)\n",
        "    payload = {\n",
        "        \"cnpj_receiver\": cnpj_receiver,\n",
        "        \"cnpj_provider\": cnpj_provider,\n",
        "        \"corporate_reason\": corporate_reason,\n",
        "        \"invoice_number\": invoice_number,\n",
        "        \"issue_date\": formatted_date,\n",
        "        \"branch\": branch\n",
        "    }\n",
        "\n",
        "    return full_path, invoice_number, corporate_reason, payload\n",
        "\n",
        "# Função para salvar as métricas em uma planilha Excel\n",
        "def salvar_metricas(metrics, path):\n",
        "    df = pd.DataFrame([metrics])\n",
        "\n",
        "    if os.path.exists(path):\n",
        "        existing_df = pd.read_excel(path)\n",
        "        df = pd.concat([existing_df, df], ignore_index=True)\n",
        "\n",
        "    df.to_excel(path, index=False)\n",
        "\n",
        "# Função para processar arquivos XML e PDFs\n",
        "def processar_arquivos_na_pasta(pasta, base_url, user):\n",
        "    metrics = {\n",
        "        \"Usuário\": user,\n",
        "        \"Data de Execução\": datetime.now().strftime('%Y-%m-%d %H:%M:%S'),\n",
        "        \"Tempo de Execução\": None,\n",
        "        \"Quantidade de arquivos\": 0,\n",
        "        \"Filial\": \"\",\n",
        "        \"Data\": \"\",\n",
        "        \"Número NFS-e\": \"\",\n",
        "        \"Nome/Razão Social\": \"\",\n",
        "        \"CNPJ\": \"\",\n",
        "        \"Caminho Salvo\": \"\",\n",
        "    }\n",
        "\n",
        "    start_time = datetime.now()  # Início da contagem do tempo\n",
        "\n",
        "    for arquivo in os.listdir(pasta):\n",
        "        if arquivo.endswith('.xml'):\n",
        "            xml_path = os.path.join(pasta, arquivo)\n",
        "            full_path, invoice_number, corporate_reason, payload = extract_and_create_path(xml_path, base_url)\n",
        "\n",
        "            try:\n",
        "                os.makedirs(os.path.dirname(full_path), exist_ok=True)\n",
        "                if os.path.exists(full_path):\n",
        "                    print(f\"Conflito: o arquivo {full_path} já existe. Arquivo não movido.\")\n",
        "                    continue\n",
        "                shutil.move(xml_path, full_path)\n",
        "                print(f\"Arquivo XML {arquivo} movido e renomeado com sucesso!\")\n",
        "\n",
        "                metrics[\"Quantidade de arquivos\"] += 1\n",
        "                metrics[\"Filial\"] += f'{payload[\"branch\"]}, '\n",
        "                metrics[\"Data\"] += f'{payload[\"issue_date\"]}, '\n",
        "                metrics[\"Número NFS-e\"] += f'{payload[\"invoice_number\"]}, '\n",
        "                metrics[\"Nome/Razão Social\"] += f'{payload[\"corporate_reason\"]}, '\n",
        "                metrics[\"CNPJ\"] += f'{payload[\"cnpj_provider\"]}, '\n",
        "                metrics[\"Caminho Salvo\"] += f'{full_path}, '\n",
        "\n",
        "            except Exception as e:\n",
        "                print(f\"Erro ao mover o arquivo XML {arquivo}: {e}\")\n",
        "                continue\n",
        "\n",
        "            # Procurar e mover o PDF correspondente\n",
        "            for pdf_file in os.listdir(pasta):\n",
        "                if pdf_file.endswith('.pdf') and invoice_number in pdf_file:\n",
        "                    pdf_path = os.path.join(pasta, pdf_file)\n",
        "                    pdf_new_name = full_path.replace('.xml', '.pdf')\n",
        "\n",
        "                    try:\n",
        "                        if os.path.exists(pdf_new_name):\n",
        "                            print(f\"Conflito: o arquivo PDF {pdf_new_name} já existe. Arquivo não movido.\")\n",
        "                            continue\n",
        "                        shutil.move(pdf_path, pdf_new_name)\n",
        "                        print(f\"Arquivo PDF {pdf_file} movido e renomeado com sucesso!\")\n",
        "                    except Exception as e:\n",
        "                        print(f\"Erro ao mover o arquivo PDF {pdf_file}: {e}\")\n",
        "                    break\n",
        "\n",
        "    metrics[\"Tempo de Execução\"] = str((datetime.now() - start_time).total_seconds())\n",
        "\n",
        "    excel_path = \"/content/drive/Shareddrives/dalilas_code_homologacao/produtos/data/metricas.xlsx\"\n",
        "    salvar_metricas(metrics, excel_path)\n",
        "    print(\"Métricas salvas com sucesso!\")\n"
      ],
      "metadata": {
        "id": "2R1j70L6_8X1",
        "cellView": "form"
      },
      "execution_count": null,
      "outputs": []
    },
    {
      "cell_type": "code",
      "source": [
        "import os\n",
        "# @title Wagnanimu's Code 🌐\n",
        "# @markdown #### 🌍 *Selecione o Ambiente de Trabalho*\n",
        "# @markdown ##### 🔄 Etapas para garantir o sucesso do processamento:\n",
        "# @markdown - ✅ **Espere** a execução das etapas anteriores ⏳\n",
        "# @markdown - ✅ **Preencha** os campos para garantir a integridade do processamento ✏️\n",
        "# @markdown - ✅ **Carregue** ou certifique-se de ter carregado os dados em [UPLOADS 🔗](https://drive.google.com/drive/folders/1wvXNEzpzmErngQ_Ezv92-BvHJfS6YZSt?usp=drive_link)\n",
        "# @markdown - ✅ **Acompanhe** os logs ao término da execução 📋\n",
        "# @markdown - ✅ **Processo finalizado com sucesso!** 🎉\n",
        "# @markdown - 📂 Para acessar os resultados, clique aqui: [PRODUTOS 🔗](https://drive.google.com/drive/folders/1btHxpjtvOPoR6TbaYCUCk-gQDB2zqx87?usp=sharing)\n",
        "# @markdown - 📊 **Dica**: Confira os logs para garantir que tudo está conforme esperado.\n",
        "# @markdown - 👊🏽 **Obrigado por utilizar o Wagnanimu's Code** 🚀\n",
        "\n",
        "\n",
        "# @markdown ---\n",
        "\n",
        "#   @markdown #### *Selecione o Ambiente\n",
        "enviroment_path = \"PRODUCTION\" # @param [\"HOMOLOGATION\",\"PRODUCTION\"]\n",
        "# @markdown # <br/>\n",
        "# @markdown #### *Selecione o Usuário\n",
        "user = \"aprendiz.financeiro\" # @param [\"denny.pimenta\",\"wagner.almeida\",\"jhonatan.sansao\",\"mayara.santos\", \"juliana.oliveira\",\"cassia.oliveira\",\"aprendiz.financeiro\"]\n",
        "\n",
        "drive_directory = \"/content/drive/Shareddrives\"\n",
        "enviroments = {\n",
        "    \"HOMOLOGATION\": \"dalilas_code_homologacao\",\n",
        "    \"PRODUCTION\": \"Financeiro\"\n",
        "}\n",
        "enviroment = f\"{drive_directory}/{enviroments[enviroment_path]}\"\n",
        "\n",
        "if(os.path.exists(enviroment)):\n",
        "  base_directory = f\"{enviroment}/Notas Fiscais Entrada/Nota Fiscal Produto/\"\n",
        "  file_path = os.path.join(drive_directory, enviroments[\"HOMOLOGATION\"], \"produtos/uploads\")\n",
        "  save_directory = os.path.join(base_directory)\n",
        "  print(save_directory)\n",
        "\n",
        "\n",
        "  if os.path.exists(file_path) and any(os.listdir(file_path)):\n",
        "    processar_arquivos_na_pasta(file_path, save_directory, user)\n",
        "else:\n",
        "    print(\"Pasta ou arquivos não encontrados\")\n",
        "\n",
        "# @markdown ---"
      ],
      "metadata": {
        "colab": {
          "base_uri": "https://localhost:8080/"
        },
        "outputId": "129fa861-56ec-47ee-8349-996815d704d2",
        "cellView": "form",
        "id": "6JDGlk6fuKSW"
      },
      "execution_count": null,
      "outputs": [
        {
          "output_type": "stream",
          "name": "stdout",
          "text": [
            "/content/drive/Shareddrives/Financeiro/Notas Fiscais Entrada/Nota Fiscal Produto/\n",
            "Conflito: o arquivo /content/drive/Shareddrives/Financeiro/Notas Fiscais Entrada/Nota Fiscal Produto/NR SAP/2024/OUTUBRO/11/NF 5822 - SANTOS   BORGES TINTAS LTDA/NF 5822 - SANTOS   BORGES TINTAS LTDA.xml já existe. Arquivo não movido.\n",
            "Arquivo XML 35241009507184000155550010000113791543242915.xml movido e renomeado com sucesso!\n",
            "Arquivo PDF 35241009507184000155550010000113791543242915.pdf movido e renomeado com sucesso!\n",
            "Métricas salvas com sucesso!\n"
          ]
        }
      ]
    },
    {
      "cell_type": "code",
      "source": [],
      "metadata": {
        "id": "elHPTBRp0Nrs"
      },
      "execution_count": null,
      "outputs": []
    }
  ]
}